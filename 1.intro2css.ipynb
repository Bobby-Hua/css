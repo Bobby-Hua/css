{
 "cells": [
  {
   "cell_type": "markdown",
   "metadata": {
    "slideshow": {
     "slide_type": "slide"
    }
   },
   "source": [
    "TechX 2020 计算社会科学暑期课程\n",
    "\n",
    "# 计算社会科学简介\n",
    "\n",
    "Introduction to Computational Social Science\n",
    "\n",
    "王成军\n",
    "\n",
    "wangchengjun@nju.edu.cn"
   ]
  },
  {
   "cell_type": "markdown",
   "metadata": {
    "slideshow": {
     "slide_type": "subslide"
    }
   },
   "source": [
    "Education is not the filling of a vessel, but the kinding of a flame.\n",
    "\n",
    "> ![](./img/socrates.jpg)\n",
    "\n",
    "课程资料 https://github.com/computational-class/css"
   ]
  },
  {
   "cell_type": "markdown",
   "metadata": {
    "ExecuteTime": {
     "end_time": "2020-03-14T13:55:31.606081Z",
     "start_time": "2020-03-14T13:55:31.603451Z"
    },
    "slideshow": {
     "slide_type": "subslide"
    }
   },
   "source": [
    "## 课程安排\n",
    "\n",
    "- 第一天 计算社会科学简介\n",
    "\n",
    "- 第二天 大数据\n",
    "\n",
    "- 第三天 在线实验\n",
    "\n",
    "- 第四天 机器学习简介\n",
    "\n",
    "- 第五天 机器学习进阶\n",
    "\n",
    "- 第六天 神经网络\n",
    "\n",
    "- 第七天 词向量嵌入模型\n",
    "\n",
    "- 第八天 自然语言处理初步\n",
    "\n",
    "- 第九天 网络科学、统计物理学和复杂性科学\n",
    "\n",
    "- 第十天 选题讨论与课程结语\n"
   ]
  },
  {
   "cell_type": "markdown",
   "metadata": {
    "slideshow": {
     "slide_type": "subslide"
    }
   },
   "source": [
    "Cioffi-Revilla, Claudio (2014). Introduction to Computational Social Science. Springer-Verlag, London.\n"
   ]
  },
  {
   "attachments": {},
   "cell_type": "markdown",
   "metadata": {
    "slideshow": {
     "slide_type": "subslide"
    }
   },
   "source": [
    "> “In short, a computational social science is emerging **field** that leverages the capacity to collect and analyze **data** with an unprecedented breadth and depth and scale.” (Lazer et al. 2009.)\n",
    "\n",
    "Lazer, D. et al. 2009. Computational Social Science. Science. 6 February 2009: Vol. 323, no. 5915, pp. 721-723."
   ]
  },
  {
   "cell_type": "markdown",
   "metadata": {
    "slideshow": {
     "slide_type": "subslide"
    }
   },
   "source": [
    "\n",
    "> If handled appropriately, **data** about **Internet-based communication** and **interactivity** could revolutionize our understanding of **collective human behaviour**.\n",
    "\n",
    "很少有人会认为社会科学会成为21世纪科学的中心\n",
    "\n",
    "- 因为社会现象是最难解决的科学问题之一\n",
    "- 社会现象当中卷入了海量的异质性的个体之间的互动\n",
    "- 网站记录（Website Logs）与基于互联网的实验（Web-based experiments）\n",
    "- 互联网公司与研究者的合作\n",
    "\n",
    "D. Watts, A twenty-first century science. Nature 445, 489 (2007).\n"
   ]
  },
  {
   "attachments": {},
   "cell_type": "markdown",
   "metadata": {
    "slideshow": {
     "slide_type": "subslide"
    }
   },
   "source": [
    "> “The increasing integration of technology into our lives has created unprecedented volumes of data on society’s everyday behaviour. Such data opens up exciting new opportunities to work towards a quantitative understanding of our **complex social systems**, within the realms of a new discipline known as Computational Social Science. Against a background of financial crises, riots and international epidemics, the urgent need for a greater comprehension of the **complexity** of our interconnected global society and an ability to apply such insights in policy decisions is clear. (Conte et al. 2012)\n",
    "\n",
    "Conte, R. 2012. Manifesto of Computational Social Science. The European Physical Journal Special Topics. November 2012: Vol. 214, Issue 1, pp. 325-346."
   ]
  },
  {
   "cell_type": "markdown",
   "metadata": {
    "slideshow": {
     "slide_type": "subslide"
    }
   },
   "source": [
    "> “Computational social science refers to the academic sub-disciplines concerned with **computational approaches** to the social sciences. Fields include computational economics and computational sociology. It is a multi-disciplinary and integrated approach to social survey focusing on information processing by means of advanced information technology. The computational tasks include the analysis of social networks and social geographic systems.” \n",
    "\n",
    "(Wikipedia 2015, http://en.wikipedia.org/wiki/Computational_social_science)\n",
    "\n"
   ]
  },
  {
   "attachments": {},
   "cell_type": "markdown",
   "metadata": {
    "slideshow": {
     "slide_type": "subslide"
    }
   },
   "source": [
    "> “The new field of Computational Social Science can be defined as the interdisciplinary investigation of the **social universe** of many scales, ranging from individual actors to the largest groupings, through the medium of **computation**.” (Cioffi-Revilla, 2014.)\n",
    "\n",
    "\n",
    "Cioffi-Revilla, Claudio (2014). Introduction to Computational Social Science. Springer-Verlag, London.\n"
   ]
  },
  {
   "cell_type": "markdown",
   "metadata": {
    "slideshow": {
     "slide_type": "subslide"
    }
   },
   "source": [
    "![](./img/css1.png)"
   ]
  },
  {
   "attachments": {},
   "cell_type": "markdown",
   "metadata": {
    "slideshow": {
     "slide_type": "subslide"
    }
   },
   "source": [
    "### Areas of Computational Social Science\n",
    "\n",
    "- (Big) Data & automated data extraction\n",
    "    - Generate, retrieve, sort, modify, transform, … data\n",
    "- Social Networks\n",
    "    - Network analysis and social networks\n",
    "- Social Complexity\n",
    "    - Social complexity, complex adaptive systems, complex systems modeling\n",
    "- Simulation\n",
    "\n",
    "\n",
    "Cioffi-Revilla, Claudio (2014). Introduction to Computational Social Science. Springer-Verlag, London.\n"
   ]
  },
  {
   "cell_type": "markdown",
   "metadata": {
    "slideshow": {
     "slide_type": "subslide"
    }
   },
   "source": [
    "### Challenges to the scientific infrastructure\n",
    "\n",
    "> Massive increases in the availability of **informative social science data** are making dramatic progress possible in analyzing, understanding, and addressing many **major societal problems**. \n",
    "\n",
    "> Yet the same forces pose severe challenges to the **scientific infrastructure** supporting data sharing, data management, informatics, statistical methodology, and research ethics and policy, and these are collectively holding back progress. \n",
    "\n",
    "> I address these changes and challenges and suggest what can be done.\n",
    "\n",
    "Gary King (2011) Ensuring the Data-Rich Future of the Social Sciences. Science."
   ]
  },
  {
   "cell_type": "code",
   "execution_count": null,
   "metadata": {
    "slideshow": {
     "slide_type": "subslide"
    }
   },
   "outputs": [],
   "source": []
  },
  {
   "cell_type": "code",
   "execution_count": null,
   "metadata": {
    "slideshow": {
     "slide_type": "subslide"
    }
   },
   "outputs": [],
   "source": []
  },
  {
   "cell_type": "code",
   "execution_count": null,
   "metadata": {
    "slideshow": {
     "slide_type": "subslide"
    }
   },
   "outputs": [],
   "source": []
  },
  {
   "cell_type": "code",
   "execution_count": null,
   "metadata": {
    "slideshow": {
     "slide_type": "subslide"
    }
   },
   "outputs": [],
   "source": []
  },
  {
   "cell_type": "code",
   "execution_count": null,
   "metadata": {
    "slideshow": {
     "slide_type": "subslide"
    }
   },
   "outputs": [],
   "source": []
  },
  {
   "cell_type": "code",
   "execution_count": null,
   "metadata": {
    "slideshow": {
     "slide_type": "subslide"
    }
   },
   "outputs": [],
   "source": []
  },
  {
   "cell_type": "code",
   "execution_count": null,
   "metadata": {
    "slideshow": {
     "slide_type": "subslide"
    }
   },
   "outputs": [],
   "source": []
  },
  {
   "cell_type": "code",
   "execution_count": null,
   "metadata": {
    "slideshow": {
     "slide_type": "subslide"
    }
   },
   "outputs": [],
   "source": []
  },
  {
   "cell_type": "code",
   "execution_count": null,
   "metadata": {
    "slideshow": {
     "slide_type": "subslide"
    }
   },
   "outputs": [],
   "source": []
  },
  {
   "cell_type": "code",
   "execution_count": null,
   "metadata": {
    "slideshow": {
     "slide_type": "subslide"
    }
   },
   "outputs": [],
   "source": []
  },
  {
   "cell_type": "code",
   "execution_count": null,
   "metadata": {
    "slideshow": {
     "slide_type": "subslide"
    }
   },
   "outputs": [],
   "source": []
  },
  {
   "cell_type": "code",
   "execution_count": null,
   "metadata": {
    "slideshow": {
     "slide_type": "subslide"
    }
   },
   "outputs": [],
   "source": []
  },
  {
   "cell_type": "code",
   "execution_count": null,
   "metadata": {
    "slideshow": {
     "slide_type": "subslide"
    }
   },
   "outputs": [],
   "source": []
  },
  {
   "cell_type": "code",
   "execution_count": null,
   "metadata": {
    "slideshow": {
     "slide_type": "subslide"
    }
   },
   "outputs": [],
   "source": []
  },
  {
   "cell_type": "code",
   "execution_count": null,
   "metadata": {
    "slideshow": {
     "slide_type": "subslide"
    }
   },
   "outputs": [],
   "source": []
  },
  {
   "cell_type": "code",
   "execution_count": null,
   "metadata": {
    "slideshow": {
     "slide_type": "subslide"
    }
   },
   "outputs": [],
   "source": []
  },
  {
   "cell_type": "code",
   "execution_count": null,
   "metadata": {
    "slideshow": {
     "slide_type": "subslide"
    }
   },
   "outputs": [],
   "source": []
  },
  {
   "cell_type": "code",
   "execution_count": null,
   "metadata": {
    "slideshow": {
     "slide_type": "subslide"
    }
   },
   "outputs": [],
   "source": []
  },
  {
   "cell_type": "code",
   "execution_count": null,
   "metadata": {
    "slideshow": {
     "slide_type": "subslide"
    }
   },
   "outputs": [],
   "source": []
  },
  {
   "cell_type": "code",
   "execution_count": null,
   "metadata": {
    "slideshow": {
     "slide_type": "subslide"
    }
   },
   "outputs": [],
   "source": []
  },
  {
   "cell_type": "code",
   "execution_count": null,
   "metadata": {
    "slideshow": {
     "slide_type": "subslide"
    }
   },
   "outputs": [],
   "source": []
  },
  {
   "cell_type": "code",
   "execution_count": null,
   "metadata": {
    "slideshow": {
     "slide_type": "subslide"
    }
   },
   "outputs": [],
   "source": []
  }
 ],
 "metadata": {
  "celltoolbar": "Slideshow",
  "kernelspec": {
   "display_name": "Python 3",
   "language": "python",
   "name": "python3"
  },
  "language_info": {
   "codemirror_mode": {
    "name": "ipython",
    "version": 3
   },
   "file_extension": ".py",
   "mimetype": "text/x-python",
   "name": "python",
   "nbconvert_exporter": "python",
   "pygments_lexer": "ipython3",
   "version": "3.7.3"
  },
  "latex_envs": {
   "LaTeX_envs_menu_present": true,
   "autoclose": false,
   "autocomplete": true,
   "bibliofile": "biblio.bib",
   "cite_by": "apalike",
   "current_citInitial": 1,
   "eqLabelWithNumbers": true,
   "eqNumInitial": 1,
   "hotkeys": {
    "equation": "Ctrl-E",
    "itemize": "Ctrl-I"
   },
   "labels_anchors": false,
   "latex_user_defs": false,
   "report_style_numbering": false,
   "user_envs_cfg": false
  },
  "toc": {
   "base_numbering": 1,
   "nav_menu": {},
   "number_sections": false,
   "sideBar": true,
   "skip_h1_title": false,
   "title_cell": "Table of Contents",
   "title_sidebar": "Contents",
   "toc_cell": false,
   "toc_position": {},
   "toc_section_display": true,
   "toc_window_display": false
  }
 },
 "nbformat": 4,
 "nbformat_minor": 2
}
